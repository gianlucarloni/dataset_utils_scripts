{
 "cells": [
  {
   "cell_type": "markdown",
   "metadata": {},
   "source": [
    "# Check bboxes of YOLO\n",
    "\n",
    "Script to check the bboxes of the breast CBIS-DDSM dataset"
   ]
  },
  {
   "cell_type": "code",
   "execution_count": 1,
   "metadata": {},
   "outputs": [],
   "source": [
    "%matplotlib inline"
   ]
  },
  {
   "cell_type": "code",
   "execution_count": 3,
   "metadata": {},
   "outputs": [],
   "source": [
    "import os\n",
    "\n",
    "import numpy as np\n",
    "from matplotlib import pyplot as plt\n",
    "import pandas as pd\n",
    "from PIL import Image"
   ]
  },
  {
   "cell_type": "code",
   "execution_count": 4,
   "metadata": {},
   "outputs": [],
   "source": [
    "def draw_box(\n",
    "    image,\n",
    "    x,\n",
    "    y,\n",
    "    width,\n",
    "    height,\n",
    "    color = None,\n",
    "    lw=4,\n",
    "):\n",
    "    \n",
    "    \"\"\"Draw bounding box on an image\n",
    "\n",
    "    Arguments:\n",
    "        image {np.ndarray}: Numpy array of the image\n",
    "        x {int}: X coordinate of the bounding-box (from csv)\n",
    "        y {int}: Y coordinate of the bounding-box (from csv)\n",
    "        width {int}: Width of the bounding-box (from csv)\n",
    "        hight {int}: Hight of the bounding-box (from csv)\n",
    "        color {}: Color of the bounding-box (default: {None})\n",
    "        lw {int}: Line width (default: {4})\n",
    "\n",
    "    Returns:\n",
    "        image {np.ndarray}: Numpy array of the image with the bounding-box\n",
    "    \"\"\"\n",
    "\n",
    "    x = min(max(x, 0), image.shape[1] - 1)\n",
    "    y = min(max(y, 0), image.shape[0] - 1)\n",
    "    if color is None:\n",
    "        color = np.max(image)\n",
    "    if len(image.shape) > 2 and not hasattr(color, \"__len__\"):\n",
    "        color = (color,) + (0,) * (image.shape[-1] - 1)\n",
    "    image[y : y + lw, x : x + width] = color\n",
    "    image[y + height - lw : y + height, x : x + width] = color\n",
    "    image[y : y + height, x : x + lw] = color\n",
    "    image[y : y + height, x + width - lw : x + width] = color\n",
    "    return image"
   ]
  },
  {
   "cell_type": "code",
   "execution_count": 8,
   "metadata": {},
   "outputs": [],
   "source": [
    "img_path = '/Users/andreaberti/Downloads/dyjsbgbphmwxtqqkxzfgwgxmrssbhmdp.pdf'\n",
    "path_to_img = os.path.dirname(img_path)\n",
    "img_name = os.path.basename(img_path)\n",
    "img_name_wo_ext = img_name.split('.')[0]\n",
    "path_to_label = os.path.join(os.path.dirname(path_to_img), 'labels')\n",
    "label_path = os.path.join(path_to_label, f'{img_name_wo_ext}.txt')"
   ]
  },
  {
   "cell_type": "code",
   "execution_count": 11,
   "metadata": {},
   "outputs": [
    {
     "data": {
      "text/plain": [
       "'/Users/andreaberti/Documents/work/DBT/DBT_TCIA/dataset_utils_scripts'"
      ]
     },
     "execution_count": 11,
     "metadata": {},
     "output_type": "execute_result"
    }
   ],
   "source": [
    "pwd"
   ]
  },
  {
   "cell_type": "code",
   "execution_count": 13,
   "metadata": {},
   "outputs": [],
   "source": [
    "out_path_label = 'tmp.txt'\n",
    "with open(out_path_label, \"a\") as label_file:\n",
    "    label_file.write(f'\\n0 100000')"
   ]
  },
  {
   "cell_type": "code",
   "execution_count": 14,
   "metadata": {},
   "outputs": [
    {
     "name": "stdout",
     "output_type": "stream",
     "text": [
      "ls: tmp: No such file or directory\n"
     ]
    }
   ],
   "source": [
    "ls tmp"
   ]
  },
  {
   "cell_type": "code",
   "execution_count": null,
   "metadata": {},
   "outputs": [],
   "source": []
  }
 ],
 "metadata": {
  "kernelspec": {
   "display_name": "DBT_dataset",
   "language": "python",
   "name": "python3"
  },
  "language_info": {
   "codemirror_mode": {
    "name": "ipython",
    "version": 3
   },
   "file_extension": ".py",
   "mimetype": "text/x-python",
   "name": "python",
   "nbconvert_exporter": "python",
   "pygments_lexer": "ipython3",
   "version": "3.9.16"
  }
 },
 "nbformat": 4,
 "nbformat_minor": 2
}
